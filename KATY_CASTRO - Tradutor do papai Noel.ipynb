{
 "cells": [
  {
   "cell_type": "markdown",
   "metadata": {},
   "source": [
    "# Atividade para o Git\n",
    "\n",
    "#### Tradutor do papai Noel\n",
    "\n",
    "---\n",
    "\n",
    "<img src=\"https://selecao.letscode.com.br/favicon.png\" width=\"40px\" style=\"position: absolute; top: 0px; right: 40px; border-radius: 5px;\" />"
   ]
  },
  {
   "cell_type": "markdown",
   "metadata": {},
   "source": [
    "### Tradutor de Papai Noel 🎅\n",
    "\n",
    "Nicolau já está bastante cansado e sua memória não é mais a mesma. Você, como programador, deverá auxiliar o Papai Noel a gritar a frase \"Feliz Natal\" no idioma correto de cada país de que trenó está sobrevoando.\n",
    "\n",
    "Como você é muito esperto(a), você já criou um pequeno app no seu celular  que irá lhe informar a frase no idioma correto dado o nome do país. Como o trenó é moderno, ele exibe no painel de navegação o nome do país atual.\n",
    "\n",
    "<img src=\"https://www.urionlinejudge.com.br/gallery/images/problems/UOJ_1763.gif\" style=\"display: block; margin: 1rem auto\" />\n",
    "\n",
    "Os dados inseridos no seu app foram:\n",
    "\n",
    "```\n",
    "brasil              Feliz Natal!\n",
    "alemanha            Frohliche Weihnachten!\n",
    "austria             Frohe Weihnacht!\n",
    "coreia              Chuk Sung Tan!\n",
    "espanha             Feliz Navidad!\n",
    "grecia              Kala Christougena!\n",
    "estados-unidos      Merry Christmas!\n",
    "inglaterra          Merry Christmas!\n",
    "australia           Merry Christmas!\n",
    "portugal            Feliz Natal!\n",
    "suecia              God Jul!\n",
    "turquia             Mutlu Noeller\n",
    "argentina           Feliz Navidad!\n",
    "chile               Feliz Navidad!\n",
    "mexico              Feliz Navidad!\n",
    "antardida           Merry Christmas!\n",
    "canada              Merry Christmas!\n",
    "irlanda             Nollaig Shona Dhuit!\n",
    "belgica             Zalig Kerstfeest!\n",
    "italia              Buon Natale!\n",
    "libia               Buon Natale!\n",
    "siria               Milad Mubarak!\n",
    "marrocos            Milad Mubarak!\n",
    "japao               Merii Kurisumasu!\n",
    "```\n",
    "\n",
    "Para não correr o risco de infomar o nome errado você decidiu testar o aplicativo mais algumas vezes. Você irá testar o seu aplicativo com diversos nomes de paises, simulando os dados informados pelo painel de navegação do trenó.\n",
    "\n",
    "O seu aplicativo deverá mostrar na tela a frase no idioma correto. Caso ela não esteja cadastrada, você deverá exibir a mensagem `--- NOT FOUND ---`.\n",
    "\n",
    "\n",
    "|  Exemplo de Entrada | Exemplo de Saída     |\n",
    "|:-------------------:|:--------------------:|\n",
    "| uri-online-judge    | --- NOT FOUND ---    |\n",
    "| alemanha      |  Frohliche Weihnachten!    |\n",
    "| brasil        |  Feliz Natal!              |\n",
    "| austria       |  Frohe Weihnacht!          |"
   ]
  },
  {
   "cell_type": "code",
   "execution_count": null,
   "metadata": {},
   "outputs": [],
   "source": [
    "tradutor = {'brasil': 'Feliz Natal!', 'alemanha': 'Frohliche Weihnachten!', 'austria': 'Frohe Weihnacht!', 'coreia': 'Chuk Sung Tan!', 'espanha':\n",
    "'Feliz Navidad!', 'grecia': 'Kala Christougena!', 'estados-unidos': 'Merry Christmas!', 'inglaterra': 'Merry Christmas!', 'australia': \n",
    "'Merry Christmas!', 'portugal': 'Feliz Natal!', 'suecia': 'God Jul!', 'turquia' : 'Mutlu Noeller', 'argentina' : 'Feliz Navidad!', 'chile': \n",
    "'Feliz Navidad!', 'mexico': 'Feliz Navidad!', 'antardida': 'Merry Christmas!', 'canada': 'Merry Christmas!', 'irlanda': 'Nollaig Shona Dhuit!',\n",
    "'belgica': 'Zalig Kerstfeest!', 'italia': 'Buon Natale!', 'libia': 'Buon Natale!', 'siria': 'Milad Mubarak!', 'marrocos': 'Milad Mubarak!', \n",
    "'japao': 'Merii Kurisumasu!'}\n",
    "\n",
    "pais = input('Digite o país: ').lower()\n",
    "if pais not in tradutor:\n",
    "    print('--- NOT FOUND ---')\n",
    "else:\n",
    "    print(tradutor[pais])"
   ]
  }
 ],
 "metadata": {
  "interpreter": {
   "hash": "fbcf974295c47632deb3b5b82e1992ec293098d8d3afd2b16ceb52ba890774fe"
  },
  "kernelspec": {
   "display_name": "Python 3.9.5 64-bit ('base': conda)",
   "language": "python",
   "name": "python3"
  },
  "language_info": {
   "codemirror_mode": {
    "name": "ipython",
    "version": 3
   },
   "file_extension": ".py",
   "mimetype": "text/x-python",
   "name": "python",
   "nbconvert_exporter": "python",
   "pygments_lexer": "ipython3",
   "version": "3.9.5"
  },
  "orig_nbformat": 4
 },
 "nbformat": 4,
 "nbformat_minor": 2
}
